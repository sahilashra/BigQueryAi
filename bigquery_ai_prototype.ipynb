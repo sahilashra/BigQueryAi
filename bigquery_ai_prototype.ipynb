{
 "cells": [
  {
   "cell_type": "markdown",
   "metadata": {},
   "source": [
    "# BigQuery & Gemini AI: Chat Analysis Prototype\n",
    "\n",
    "This notebook demonstrates how to use BigQuery and Gemini AI to analyze chat messages. It's designed to be run in a Kaggle or Google Colab environment."
   ]
  },
  {
   "cell_type": "markdown",
   "metadata": {},
   "source": [
    "## 1. Setup & Dependencies\n",
    "\n",
    "First, let's install the necessary libraries."
   ]
  },
  {
   "cell_type": "code",
   "execution_count": null,
   "metadata": {},
   "outputs": [],
   "source": [
    "%pip install google-cloud-bigquery pandas pyarrow db-dtypes"
   ]
  },
  {
   "cell_type": "markdown",
   "metadata": {},
   "source": [
    "## 2. Authentication"
   ]
  },
  {
   "cell_type": "code",
   "execution_count": null,
   "metadata": {},
   "outputs": [],
   "source": [
    "from google.cloud import bigquery\n",
    "import pandas as pd\n",
    "import google.auth\n",
    "\n",
    "# This will automatically find your default credentials.\n",
    "# Make sure you have run `gcloud auth application-default login` locally.\n",
    "credentials, project_id = google.auth.default()\n",
    "\n",
    "# The project_id is detected automatically, but you can override it here\n",
    "# project_id = \"your-gcp-project-id\"  # @param {type:\"string\"}\n",
    "dataset_id = \"your_bigquery_dataset\"  # @param {type:\"string\"}\n",
    "table_id = \"chat_messages\"  # @param {type:\"string\"}\n",
    "\n",
    "client = bigquery.Client(credentials=credentials, project=project_id)"
   ]
  },
  {
   "cell_type": "markdown",
   "metadata": {},
   "source": [
    "## 3. Load Sample Data\n",
    "\n",
    "For this demo, we'll load a sample CSV of chat messages into a Pandas DataFrame and then upload it to BigQuery. In a real-world scenario, this data would likely be streamed directly into BigQuery."
   ]
  },
  {
   "cell_type": "code",
   "execution_count": null,
   "metadata": {},
   "outputs": [],
   "source": [
    "# Load the sample data from the CSV file included in the project\n",
    "df = pd.read_csv('sample_chats.csv')\n",
    "\n",
    "# Display the first few rows\n",
    "print(df.head())\n",
    "\n",
    "# Upload the DataFrame to BigQuery\n",
    "table_ref = client.dataset(dataset_id).table(table_id)\n",
    "job_config = bigquery.LoadJobConfig(\n",
    "    schema=[\n",
    "        bigquery.SchemaField(\"message_id\", \"INTEGER\"),\n",
    "        bigquery.SchemaField(\"user_id\", \"STRING\"),\n",
    "        bigquery.SchemaField(\"timestamp\", \"TIMESTAMP\"),\n",
    "        bigquery.SchemaField(\"message\", \"STRING\"),\n",
    "    ],\n",
    "    write_disposition=\"WRITE_TRUNCATE\",\n",
    ")\n",
    "\n",
    "job = client.load_table_from_dataframe(\n",
    "    df, table_ref, job_config=job_config\n",
    ")\n",
    "job.result()  # Wait for the job to complete\n",
    "\n",
    "print(f\"Loaded {job.output_rows} rows into {project_id}:{dataset_id}.{table_id}\")"
   ]
  },
  {
   "cell_type": "markdown",
   "metadata": {},
   "source": [
    "## 4. Analyze Messages with Gemini AI\n",
    "\n",
    "Now, we'll use a BigQuery remote function with Gemini AI to analyze the chat messages for toxicity, sentiment, and topic. The following SQL query performs this analysis."
   ]
  },
  {
   "cell_type": "code",
   "execution_count": null,
   "metadata": {},
   "outputs": [],
   "source": [
    "sql = f\"\"\"\n",
    "SELECT\n",
    "  message_id,\n",
    "  user_id,\n",
    "  message,\n",
    "  ml_generate_text_result['predictions'][0]['content'] AS analysis\n",
    "FROM\n",
    "  ML.GENERATE_TEXT(\n",
    "    MODEL `{project_id}.{dataset_id}.gemini_model`,\n",
    "    (\n",
    "      SELECT\n",
    "        message_id,\n",
    "        user_id,\n",
    "        message,\n",
    "        CONCAT(\n",
    "          'Analyze the following chat message for toxicity, sentiment, and topic. Return a JSON object with \\\"toxicity_score\\\" (1-10), \\\"sentiment\\\" (positive/negative/neutral), and \\\"topic\\\": ',\n",
    "          message\n",
    "        ) AS prompt\n",
    "      FROM\n",
    "        `{project_id}.{dataset_id}.{table_id}`\n",
    "    ),\n",
    "    STRUCT(\n",
    "      0.2 AS temperature,\n",
    "      1024 AS max_output_tokens\n",
    "    )\n",
    "  );\n",
    "\"\"\"\n",
    "\n",
    "analysis_df = client.query(sql).to_dataframe()\n",
    "print(analysis_df.head())"
   ]
  },
  {
   "cell_type": "markdown",
   "metadata": {},
   "source": [
    "## 5. Next Steps: Visualization\n",
    "\n",
    "The `analysis_df` DataFrame now contains the original chat messages along with the AI-powered analysis. This data can be saved as a new BigQuery table and connected to Looker Studio for visualization.\n",
    "\n",
    "See the `looker_studio_instructions.md` file for more details."
   ]
  }
 ],
 "metadata": {
  "kernelspec": {
   "display_name": "Python 3",
   "language": "python",
   "name": "python3"
  },
  "language_info": {
   "codemirror_mode": {
    "name": "ipython",
    "version": 3
   },
   "file_extension": ".py",
   "mimetype": "text/x-python",
   "name": "python",
   "nbconvert_exporter": "python",
   "pygments_lexer": "ipython3",
   "version": "3.10.9"
  }
 },
 "nbformat": 4,
 "nbformat_minor": 4
}
